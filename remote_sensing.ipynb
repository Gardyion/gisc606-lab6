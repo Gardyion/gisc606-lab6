{
 "cells": [
  {
   "cell_type": "code",
   "execution_count": null,
   "metadata": {},
   "outputs": [],
   "source": [
    "#Read through lesson.\n",
    "#https://www.earthdatascience.org/courses/use-data-open-source-python/data-stories/cold-springs-wildfire/wildfire-remote-sensing/"
   ]
  }
 ],
 "metadata": {
  "language_info": {
   "name": "python"
  }
 },
 "nbformat": 4,
 "nbformat_minor": 2
}
